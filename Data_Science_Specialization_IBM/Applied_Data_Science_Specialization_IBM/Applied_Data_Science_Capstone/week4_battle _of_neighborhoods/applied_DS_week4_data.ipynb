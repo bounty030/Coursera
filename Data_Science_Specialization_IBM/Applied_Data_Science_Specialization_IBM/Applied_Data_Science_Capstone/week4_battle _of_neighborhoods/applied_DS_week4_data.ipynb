{
 "cells": [
  {
   "cell_type": "markdown",
   "metadata": {},
   "source": [
    "# Applied Data Science Capstone (IBM) - Week4"
   ]
  },
  {
   "cell_type": "markdown",
   "metadata": {},
   "source": [
    "#### Peer-graded Assignment: Capstone Project - The Battle of Neighborhoods (Week 1) - Part 2 (Data)"
   ]
  },
  {
   "cell_type": "markdown",
   "metadata": {},
   "source": [
    "<div style=\"text-align: right\"> by Tim Kießling </div> "
   ]
  },
  {
   "cell_type": "markdown",
   "metadata": {},
   "source": [
    "For this project, two data sources are used. The first data source[<sup>1</sup>](#fn1) is provided by the city Munich and provides data about the citizens age of each of Munich districts. The names of Munichs districts will be taken from said dataset and used with the geocoder library to get their respective geo coordinates. Afterwards, the geo coordinates will be used with the Foursquare API in order to get the closest 100 venues in a radius of 750m of each district.\n",
    "\n",
    "The dataset provided by the city Munich will be discussed in more detail in the following."
   ]
  },
  {
   "cell_type": "markdown",
   "metadata": {},
   "source": [
    "## Data Description"
   ]
  },
  {
   "cell_type": "markdown",
   "metadata": {},
   "source": [
    "This dataset[<sup>1</sup>](#fn1) includes the following data about Munich from the year 2000 to 2017: \n",
    "- all 25 disctrict names \n",
    "- \"aging quotient\" in percent for each district\n",
    "\n",
    "The \"aging quotient\" (aq) is calculated by the number of citizins older than 65 divided by the number of citizins between the age of 0 to 15 multiplied by 100.\n",
    "\n",
    "$aq = \\frac{citizens \\, (age\\, \\ge \\, 65)}{citizens \\, (age \\, is \\, [0, 15])} \\times 100$\n",
    "\n",
    "Interpretation of the aq: \n",
    "- aq > 100: There are less citizens of age $[0, 15]$ than there are citizens of age $\\ge 65$. \n",
    "- aq = 100: The number of citizins of age $[0, 15]$ and of age $\\ge 65$ is equal.\n",
    "- aq < 100: There are more citizens of age $[0, 15]$ than there are citizens of age $\\ge 65$."
   ]
  },
  {
   "cell_type": "markdown",
   "metadata": {},
   "source": [
    "[<sup>1</sup>] <span id=\"fn1\"> https://www.opengov-muenchen.de/ar/dataset/indikatorenatlas-bevoelkerung-ueberalterungsquotient-83r65mct (last visited 2020.12.12) </span>"
   ]
  },
  {
   "cell_type": "markdown",
   "metadata": {},
   "source": [
    "## Data Display"
   ]
  },
  {
   "cell_type": "markdown",
   "metadata": {},
   "source": [
    "Load data and display first five rows"
   ]
  },
  {
   "cell_type": "code",
   "execution_count": 3,
   "metadata": {},
   "outputs": [
    {
     "data": {
      "text/html": [
       "<div>\n",
       "<style scoped>\n",
       "    .dataframe tbody tr th:only-of-type {\n",
       "        vertical-align: middle;\n",
       "    }\n",
       "\n",
       "    .dataframe tbody tr th {\n",
       "        vertical-align: top;\n",
       "    }\n",
       "\n",
       "    .dataframe thead th {\n",
       "        text-align: right;\n",
       "    }\n",
       "</style>\n",
       "<table border=\"1\" class=\"dataframe\">\n",
       "  <thead>\n",
       "    <tr style=\"text-align: right;\">\n",
       "      <th></th>\n",
       "      <th>Indikator</th>\n",
       "      <th>Ausprägung</th>\n",
       "      <th>Jahr</th>\n",
       "      <th>Räumliche Gliederung</th>\n",
       "      <th>Indikatorwert</th>\n",
       "      <th>Basiswert 1</th>\n",
       "      <th>Basiswert 2</th>\n",
       "      <th>Basiswert 3</th>\n",
       "      <th>Basiswert 4</th>\n",
       "      <th>Basiswert 5</th>\n",
       "      <th>Name Basiswert 1</th>\n",
       "      <th>Name Basiswert 2</th>\n",
       "      <th>Name Basiswert 3</th>\n",
       "      <th>Name Basiswert 4</th>\n",
       "      <th>Name Basiswert 5</th>\n",
       "    </tr>\n",
       "  </thead>\n",
       "  <tbody>\n",
       "    <tr>\n",
       "      <th>0</th>\n",
       "      <td>Überalterungsquotient</td>\n",
       "      <td>Ausländer_innen</td>\n",
       "      <td>2017</td>\n",
       "      <td>Stadt München</td>\n",
       "      <td>130.7</td>\n",
       "      <td>44352</td>\n",
       "      <td>33935</td>\n",
       "      <td>NaN</td>\n",
       "      <td>NaN</td>\n",
       "      <td>NaN</td>\n",
       "      <td>Anzahl Einwohner ab 65 (Ausländer)</td>\n",
       "      <td>Anzahl Einwohner jünger 15 (Ausländer)</td>\n",
       "      <td>NaN</td>\n",
       "      <td>NaN</td>\n",
       "      <td>NaN</td>\n",
       "    </tr>\n",
       "    <tr>\n",
       "      <th>1</th>\n",
       "      <td>Überalterungsquotient</td>\n",
       "      <td>Ausländer_innen</td>\n",
       "      <td>2017</td>\n",
       "      <td>01 Altstadt - Lehel</td>\n",
       "      <td>187.2</td>\n",
       "      <td>646</td>\n",
       "      <td>345</td>\n",
       "      <td>NaN</td>\n",
       "      <td>NaN</td>\n",
       "      <td>NaN</td>\n",
       "      <td>Anzahl Einwohner ab 65 (Ausländer)</td>\n",
       "      <td>Anzahl Einwohner jünger 15 (Ausländer)</td>\n",
       "      <td>NaN</td>\n",
       "      <td>NaN</td>\n",
       "      <td>NaN</td>\n",
       "    </tr>\n",
       "    <tr>\n",
       "      <th>2</th>\n",
       "      <td>Überalterungsquotient</td>\n",
       "      <td>Ausländer_innen</td>\n",
       "      <td>2017</td>\n",
       "      <td>02 Ludwigsvorstadt - Isarvorstadt</td>\n",
       "      <td>183.3</td>\n",
       "      <td>1593</td>\n",
       "      <td>869</td>\n",
       "      <td>NaN</td>\n",
       "      <td>NaN</td>\n",
       "      <td>NaN</td>\n",
       "      <td>Anzahl Einwohner ab 65 (Ausländer)</td>\n",
       "      <td>Anzahl Einwohner jünger 15 (Ausländer)</td>\n",
       "      <td>NaN</td>\n",
       "      <td>NaN</td>\n",
       "      <td>NaN</td>\n",
       "    </tr>\n",
       "    <tr>\n",
       "      <th>3</th>\n",
       "      <td>Überalterungsquotient</td>\n",
       "      <td>Ausländer_innen</td>\n",
       "      <td>2017</td>\n",
       "      <td>03 Maxvorstadt</td>\n",
       "      <td>202.4</td>\n",
       "      <td>1178</td>\n",
       "      <td>582</td>\n",
       "      <td>NaN</td>\n",
       "      <td>NaN</td>\n",
       "      <td>NaN</td>\n",
       "      <td>Anzahl Einwohner ab 65 (Ausländer)</td>\n",
       "      <td>Anzahl Einwohner jünger 15 (Ausländer)</td>\n",
       "      <td>NaN</td>\n",
       "      <td>NaN</td>\n",
       "      <td>NaN</td>\n",
       "    </tr>\n",
       "    <tr>\n",
       "      <th>4</th>\n",
       "      <td>Überalterungsquotient</td>\n",
       "      <td>Ausländer_innen</td>\n",
       "      <td>2017</td>\n",
       "      <td>04 Schwabing - West</td>\n",
       "      <td>175.2</td>\n",
       "      <td>1689</td>\n",
       "      <td>964</td>\n",
       "      <td>NaN</td>\n",
       "      <td>NaN</td>\n",
       "      <td>NaN</td>\n",
       "      <td>Anzahl Einwohner ab 65 (Ausländer)</td>\n",
       "      <td>Anzahl Einwohner jünger 15 (Ausländer)</td>\n",
       "      <td>NaN</td>\n",
       "      <td>NaN</td>\n",
       "      <td>NaN</td>\n",
       "    </tr>\n",
       "  </tbody>\n",
       "</table>\n",
       "</div>"
      ],
      "text/plain": [
       "               Indikator       Ausprägung  Jahr  \\\n",
       "0  Überalterungsquotient  Ausländer_innen  2017   \n",
       "1  Überalterungsquotient  Ausländer_innen  2017   \n",
       "2  Überalterungsquotient  Ausländer_innen  2017   \n",
       "3  Überalterungsquotient  Ausländer_innen  2017   \n",
       "4  Überalterungsquotient  Ausländer_innen  2017   \n",
       "\n",
       "                Räumliche Gliederung  Indikatorwert  Basiswert 1  Basiswert 2  \\\n",
       "0                      Stadt München          130.7        44352        33935   \n",
       "1                01 Altstadt - Lehel          187.2          646          345   \n",
       "2  02 Ludwigsvorstadt - Isarvorstadt          183.3         1593          869   \n",
       "3                     03 Maxvorstadt          202.4         1178          582   \n",
       "4                04 Schwabing - West          175.2         1689          964   \n",
       "\n",
       "   Basiswert 3  Basiswert 4  Basiswert 5                    Name Basiswert 1  \\\n",
       "0          NaN          NaN          NaN  Anzahl Einwohner ab 65 (Ausländer)   \n",
       "1          NaN          NaN          NaN  Anzahl Einwohner ab 65 (Ausländer)   \n",
       "2          NaN          NaN          NaN  Anzahl Einwohner ab 65 (Ausländer)   \n",
       "3          NaN          NaN          NaN  Anzahl Einwohner ab 65 (Ausländer)   \n",
       "4          NaN          NaN          NaN  Anzahl Einwohner ab 65 (Ausländer)   \n",
       "\n",
       "                         Name Basiswert 2  Name Basiswert 3  Name Basiswert 4  \\\n",
       "0  Anzahl Einwohner jünger 15 (Ausländer)               NaN               NaN   \n",
       "1  Anzahl Einwohner jünger 15 (Ausländer)               NaN               NaN   \n",
       "2  Anzahl Einwohner jünger 15 (Ausländer)               NaN               NaN   \n",
       "3  Anzahl Einwohner jünger 15 (Ausländer)               NaN               NaN   \n",
       "4  Anzahl Einwohner jünger 15 (Ausländer)               NaN               NaN   \n",
       "\n",
       "   Name Basiswert 5  \n",
       "0               NaN  \n",
       "1               NaN  \n",
       "2               NaN  \n",
       "3               NaN  \n",
       "4               NaN  "
      ]
     },
     "execution_count": 3,
     "metadata": {},
     "output_type": "execute_result"
    }
   ],
   "source": [
    "import pandas as pd\n",
    "\n",
    "path = \"data/\"\n",
    "fn = \"indikatorenatlas1812bevoelkerungueberalterungsquotient.csv\"\n",
    "\n",
    "df = pd.read_csv(path + fn)\n",
    "df.head(5)"
   ]
  },
  {
   "cell_type": "markdown",
   "metadata": {},
   "source": [
    "## Basic Data Cleanup"
   ]
  },
  {
   "cell_type": "markdown",
   "metadata": {},
   "source": [
    "Select only the import columns"
   ]
  },
  {
   "cell_type": "code",
   "execution_count": 11,
   "metadata": {},
   "outputs": [
    {
     "data": {
      "text/html": [
       "<div>\n",
       "<style scoped>\n",
       "    .dataframe tbody tr th:only-of-type {\n",
       "        vertical-align: middle;\n",
       "    }\n",
       "\n",
       "    .dataframe tbody tr th {\n",
       "        vertical-align: top;\n",
       "    }\n",
       "\n",
       "    .dataframe thead th {\n",
       "        text-align: right;\n",
       "    }\n",
       "</style>\n",
       "<table border=\"1\" class=\"dataframe\">\n",
       "  <thead>\n",
       "    <tr style=\"text-align: right;\">\n",
       "      <th></th>\n",
       "      <th>Jahr</th>\n",
       "      <th>Räumliche Gliederung</th>\n",
       "      <th>Indikatorwert</th>\n",
       "    </tr>\n",
       "  </thead>\n",
       "  <tbody>\n",
       "    <tr>\n",
       "      <th>0</th>\n",
       "      <td>2017</td>\n",
       "      <td>Stadt München</td>\n",
       "      <td>130.7</td>\n",
       "    </tr>\n",
       "    <tr>\n",
       "      <th>1</th>\n",
       "      <td>2017</td>\n",
       "      <td>01 Altstadt - Lehel</td>\n",
       "      <td>187.2</td>\n",
       "    </tr>\n",
       "    <tr>\n",
       "      <th>2</th>\n",
       "      <td>2017</td>\n",
       "      <td>02 Ludwigsvorstadt - Isarvorstadt</td>\n",
       "      <td>183.3</td>\n",
       "    </tr>\n",
       "    <tr>\n",
       "      <th>3</th>\n",
       "      <td>2017</td>\n",
       "      <td>03 Maxvorstadt</td>\n",
       "      <td>202.4</td>\n",
       "    </tr>\n",
       "    <tr>\n",
       "      <th>4</th>\n",
       "      <td>2017</td>\n",
       "      <td>04 Schwabing - West</td>\n",
       "      <td>175.2</td>\n",
       "    </tr>\n",
       "  </tbody>\n",
       "</table>\n",
       "</div>"
      ],
      "text/plain": [
       "   Jahr               Räumliche Gliederung  Indikatorwert\n",
       "0  2017                      Stadt München          130.7\n",
       "1  2017                01 Altstadt - Lehel          187.2\n",
       "2  2017  02 Ludwigsvorstadt - Isarvorstadt          183.3\n",
       "3  2017                     03 Maxvorstadt          202.4\n",
       "4  2017                04 Schwabing - West          175.2"
      ]
     },
     "execution_count": 11,
     "metadata": {},
     "output_type": "execute_result"
    }
   ],
   "source": [
    "df_clean_ger = df[[\"Jahr\", \"Räumliche Gliederung\", \"Indikatorwert\"]]\n",
    "df_clean_ger.head(5)"
   ]
  },
  {
   "cell_type": "markdown",
   "metadata": {},
   "source": [
    "Rename the columns to English"
   ]
  },
  {
   "cell_type": "code",
   "execution_count": 24,
   "metadata": {},
   "outputs": [
    {
     "data": {
      "text/html": [
       "<div>\n",
       "<style scoped>\n",
       "    .dataframe tbody tr th:only-of-type {\n",
       "        vertical-align: middle;\n",
       "    }\n",
       "\n",
       "    .dataframe tbody tr th {\n",
       "        vertical-align: top;\n",
       "    }\n",
       "\n",
       "    .dataframe thead th {\n",
       "        text-align: right;\n",
       "    }\n",
       "</style>\n",
       "<table border=\"1\" class=\"dataframe\">\n",
       "  <thead>\n",
       "    <tr style=\"text-align: right;\">\n",
       "      <th></th>\n",
       "      <th>year</th>\n",
       "      <th>district</th>\n",
       "      <th>aq</th>\n",
       "    </tr>\n",
       "  </thead>\n",
       "  <tbody>\n",
       "    <tr>\n",
       "      <th>0</th>\n",
       "      <td>2017</td>\n",
       "      <td>Stadt München</td>\n",
       "      <td>130.7</td>\n",
       "    </tr>\n",
       "    <tr>\n",
       "      <th>1</th>\n",
       "      <td>2017</td>\n",
       "      <td>01 Altstadt - Lehel</td>\n",
       "      <td>187.2</td>\n",
       "    </tr>\n",
       "    <tr>\n",
       "      <th>2</th>\n",
       "      <td>2017</td>\n",
       "      <td>02 Ludwigsvorstadt - Isarvorstadt</td>\n",
       "      <td>183.3</td>\n",
       "    </tr>\n",
       "    <tr>\n",
       "      <th>3</th>\n",
       "      <td>2017</td>\n",
       "      <td>03 Maxvorstadt</td>\n",
       "      <td>202.4</td>\n",
       "    </tr>\n",
       "    <tr>\n",
       "      <th>4</th>\n",
       "      <td>2017</td>\n",
       "      <td>04 Schwabing - West</td>\n",
       "      <td>175.2</td>\n",
       "    </tr>\n",
       "  </tbody>\n",
       "</table>\n",
       "</div>"
      ],
      "text/plain": [
       "   year                           district     aq\n",
       "0  2017                      Stadt München  130.7\n",
       "1  2017                01 Altstadt - Lehel  187.2\n",
       "2  2017  02 Ludwigsvorstadt - Isarvorstadt  183.3\n",
       "3  2017                     03 Maxvorstadt  202.4\n",
       "4  2017                04 Schwabing - West  175.2"
      ]
     },
     "execution_count": 24,
     "metadata": {},
     "output_type": "execute_result"
    }
   ],
   "source": [
    "df_clean_eng = df_clean_ger.rename(columns={\"Jahr\": \"year\", \n",
    "                                            \"Räumliche Gliederung\": \"district\",\n",
    "                                            \"Indikatorwert\": \"aq\"})\n",
    "df_clean_eng.head(5)"
   ]
  },
  {
   "cell_type": "markdown",
   "metadata": {},
   "source": [
    "Some stats of the dataframe"
   ]
  },
  {
   "cell_type": "code",
   "execution_count": 44,
   "metadata": {},
   "outputs": [
    {
     "name": "stdout",
     "output_type": "stream",
     "text": [
      "(1404, 3)\n",
      "year          int64\n",
      "district     object\n",
      "aq          float64\n",
      "dtype: object\n"
     ]
    }
   ],
   "source": [
    "import pprint\n",
    "\n",
    "pprint.pp(df_clean_eng.shape)\n",
    "pprint.pp(df_clean_eng.dtypes)"
   ]
  },
  {
   "cell_type": "markdown",
   "metadata": {},
   "source": [
    "Convert columns \"disctrict\" to string"
   ]
  },
  {
   "cell_type": "code",
   "execution_count": 59,
   "metadata": {},
   "outputs": [
    {
     "name": "stdout",
     "output_type": "stream",
     "text": [
      "year          int16\n",
      "district     object\n",
      "aq          float64\n",
      "dtype: object\n"
     ]
    }
   ],
   "source": [
    "df_clean = df_clean_eng.astype({\"district\": \"string\"})\n",
    "df_clean = df_clean_eng.astype({\"year\": \"int16\"})\n",
    "pprint.pp(df_clean.dtypes)"
   ]
  },
  {
   "cell_type": "markdown",
   "metadata": {},
   "source": [
    "Remove enumeration of districts"
   ]
  },
  {
   "cell_type": "code",
   "execution_count": 62,
   "metadata": {},
   "outputs": [
    {
     "data": {
      "text/html": [
       "<div>\n",
       "<style scoped>\n",
       "    .dataframe tbody tr th:only-of-type {\n",
       "        vertical-align: middle;\n",
       "    }\n",
       "\n",
       "    .dataframe tbody tr th {\n",
       "        vertical-align: top;\n",
       "    }\n",
       "\n",
       "    .dataframe thead th {\n",
       "        text-align: right;\n",
       "    }\n",
       "</style>\n",
       "<table border=\"1\" class=\"dataframe\">\n",
       "  <thead>\n",
       "    <tr style=\"text-align: right;\">\n",
       "      <th></th>\n",
       "      <th>year</th>\n",
       "      <th>district</th>\n",
       "      <th>aq</th>\n",
       "    </tr>\n",
       "  </thead>\n",
       "  <tbody>\n",
       "    <tr>\n",
       "      <th>0</th>\n",
       "      <td>2017</td>\n",
       "      <td>Stadt München</td>\n",
       "      <td>130.7</td>\n",
       "    </tr>\n",
       "    <tr>\n",
       "      <th>1</th>\n",
       "      <td>2017</td>\n",
       "      <td>Altstadt - Lehel</td>\n",
       "      <td>187.2</td>\n",
       "    </tr>\n",
       "    <tr>\n",
       "      <th>2</th>\n",
       "      <td>2017</td>\n",
       "      <td>Ludwigsvorstadt - Isarvorstadt</td>\n",
       "      <td>183.3</td>\n",
       "    </tr>\n",
       "    <tr>\n",
       "      <th>3</th>\n",
       "      <td>2017</td>\n",
       "      <td>Maxvorstadt</td>\n",
       "      <td>202.4</td>\n",
       "    </tr>\n",
       "    <tr>\n",
       "      <th>4</th>\n",
       "      <td>2017</td>\n",
       "      <td>Schwabing - West</td>\n",
       "      <td>175.2</td>\n",
       "    </tr>\n",
       "  </tbody>\n",
       "</table>\n",
       "</div>"
      ],
      "text/plain": [
       "   year                        district     aq\n",
       "0  2017                   Stadt München  130.7\n",
       "1  2017                Altstadt - Lehel  187.2\n",
       "2  2017  Ludwigsvorstadt - Isarvorstadt  183.3\n",
       "3  2017                     Maxvorstadt  202.4\n",
       "4  2017                Schwabing - West  175.2"
      ]
     },
     "execution_count": 62,
     "metadata": {},
     "output_type": "execute_result"
    }
   ],
   "source": [
    "df_clean.district = df_clean.district.str.replace('\\d+', '') #remove enumeration of districts\n",
    "df_clean.district = df_clean.district.str.lstrip() #strip left whitespaces\n",
    "df_clean.head()"
   ]
  },
  {
   "cell_type": "markdown",
   "metadata": {},
   "source": [
    "Save dataframe to new file for next assignment"
   ]
  },
  {
   "cell_type": "code",
   "execution_count": 66,
   "metadata": {},
   "outputs": [
    {
     "name": "stdout",
     "output_type": "stream",
     "text": [
      "file saved\n"
     ]
    }
   ],
   "source": [
    "df_clean.to_csv(path + \"aq_munich.csv\")\n",
    "print(\"file saved\")"
   ]
  },
  {
   "cell_type": "markdown",
   "metadata": {},
   "source": [
    "<div style=\"text-align: right\"> last edited on 2020.12.12 </div> "
   ]
  },
  {
   "cell_type": "code",
   "execution_count": null,
   "metadata": {},
   "outputs": [],
   "source": []
  }
 ],
 "metadata": {
  "kernelspec": {
   "display_name": "Python 3",
   "language": "python",
   "name": "python3"
  },
  "language_info": {
   "codemirror_mode": {
    "name": "ipython",
    "version": 3
   },
   "file_extension": ".py",
   "mimetype": "text/x-python",
   "name": "python",
   "nbconvert_exporter": "python",
   "pygments_lexer": "ipython3",
   "version": "3.8.6"
  }
 },
 "nbformat": 4,
 "nbformat_minor": 4
}
