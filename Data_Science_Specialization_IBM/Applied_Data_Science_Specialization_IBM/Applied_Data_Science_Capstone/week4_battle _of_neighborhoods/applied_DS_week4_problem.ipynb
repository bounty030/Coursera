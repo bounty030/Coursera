{
 "cells": [
  {
   "cell_type": "markdown",
   "metadata": {},
   "source": [
    "# Applied Data Science Capstone (IBM) - Week4"
   ]
  },
  {
   "cell_type": "markdown",
   "metadata": {},
   "source": [
    "#### Peer-graded Assignment: Capstone Project - The Battle of Neighborhoods (Week 1) - Part 1 (Business Problem)"
   ]
  },
  {
   "cell_type": "markdown",
   "metadata": {},
   "source": [
    "<div style=\"text-align: right\"> by Tim Kießling </div> "
   ]
  },
  {
   "cell_type": "markdown",
   "metadata": {},
   "source": [
    "## Introduction"
   ]
  },
  {
   "cell_type": "markdown",
   "metadata": {},
   "source": [
    "Moving to a new city can be quite overwhelming, especially for young families. Parents want their children to grow up in a protected environment yet with a lot of freedom for their development. Often times, families move to a city which provides a lot of opportunities, most of all career opportunities. Larger cities consist of many districts and neighborhoods which may differ strongly in regard to venues and age of citizens. The age of citizens is being considered based on the assumption that young families want to be among themselves, meet other young parents and want their children to make many friends. \n",
    "\n",
    "In summary, the project goal is to give parents more information about the different districts of an arbitrary city with a population greater than one million."
   ]
  },
  {
   "cell_type": "markdown",
   "metadata": {},
   "source": [
    "## Approach"
   ]
  },
  {
   "cell_type": "markdown",
   "metadata": {},
   "source": [
    "The goal of this project is to recommend districts of a certain city to parents who want to move to a particular city. Districts will be clustered using k-means algorithm according to the venues and displayed on an interactive map. Additionaly, the 5 most frequent venues of each district will also be displayed on the map. Furthermore, the map will be color coded by an \"age quotient\"[<sup>1</sup>](#fn1). \n",
    "\n",
    "The following steps need to be done:\n",
    "    \n",
    "  1. Get names of the city districts and their respective \"age quotient\" (and data cleanup)\n",
    "  2. Get geo location of districts using the geocoder library\n",
    "  3. Get list of venues of each district using the Foursquare API[<sup>2</sup>](#fn2)\n",
    "  4. Cluster districts in regards to their venues using k-means algorithm[<sup>3</sup>](#fn3)\n",
    "  5. Get 5 most frequent venues of each district\n",
    "  6. Display results with the folium library on a map and color code map with \"age quotient\""
   ]
  },
  {
   "cell_type": "markdown",
   "metadata": {},
   "source": [
    "[<sup>1</sup>] <span id=\"fn1\"> The \"age quotient\" is discussed in more detail in the next part of this assignment.</span>\n",
    "\n",
    "[<sup>2</sup>] <span id=\"fn2\"> The number of calls with a free Foursquare account is limited. In order to limit the number of calls, the search radius for the venues of each district will be limited as well as the total number of returned venues.</span>\n",
    "\n",
    "[<sup>3</sup>] <span id=\"fn3\"> This includes finding the best amount of clusters."
   ]
  },
  {
   "cell_type": "markdown",
   "metadata": {},
   "source": [
    "## Location"
   ]
  },
  {
   "cell_type": "markdown",
   "metadata": {},
   "source": [
    "For this project, the chosen city is Munich in Germany since it has a population of more than one million and the highest population density in all of Germany. Additionaly, there are a lot of job opportunities in Munich because some of the largest german companies have their headquarter in Munich and the startup scene is very lively. \n",
    "\n",
    "Additional information about Munich:\n",
    "* State: Bavaria\n",
    "* Area: 310.7 km$^2$\n",
    "* Population: 1'484'226 (Dec. 2019)\n",
    "* Population density: 4777 citizens per km$^2$\n",
    "* Number of district: 25\n",
    "\n",
    "\n",
    "![Picture of Munich](data/rathaus-sonne-hp.jpg)\n"
   ]
  },
  {
   "cell_type": "markdown",
   "metadata": {},
   "source": [
    "<div style=\"text-align: right\"> last edited on 2020.12.12 </div> "
   ]
  },
  {
   "cell_type": "code",
   "execution_count": null,
   "metadata": {},
   "outputs": [],
   "source": []
  }
 ],
 "metadata": {
  "kernelspec": {
   "display_name": "Python 3",
   "language": "python",
   "name": "python3"
  },
  "language_info": {
   "codemirror_mode": {
    "name": "ipython",
    "version": 3
   },
   "file_extension": ".py",
   "mimetype": "text/x-python",
   "name": "python",
   "nbconvert_exporter": "python",
   "pygments_lexer": "ipython3",
   "version": "3.8.6"
  }
 },
 "nbformat": 4,
 "nbformat_minor": 4
}
